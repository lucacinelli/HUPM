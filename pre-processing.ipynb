{
 "cells": [
  {
   "cell_type": "code",
   "execution_count": 6,
   "id": "0ee8c2c7-3d93-499a-bac0-53c14c7cda2e",
   "metadata": {},
   "outputs": [],
   "source": [
    "import numpy as np\n",
    "import pandas as pd"
   ]
  },
  {
   "cell_type": "code",
   "execution_count": 8,
   "id": "3be6baed-e562-4ea1-8dd3-4a96b7628724",
   "metadata": {},
   "outputs": [],
   "source": [
    "# the columns we are interested in and the labels for each item\n",
    "columns = 'PATIENT_VISIT_IDENTIFIER;AGE_ABOVE65;AGE_PERCENTIL;GENDER;DISEASE GROUPING 1;DISEASE GROUPING 2;DISEASE GROUPING 3;DISEASE GROUPING 4;DISEASE GROUPING 5;DISEASE GROUPING 6;HTN;IMMUNOCOMPROMISED;OTHER;ALBUMIN_MEAN;BE_ARTERIAL_MEAN;BE_VENOUS_MEAN;BIC_ARTERIAL_MEAN;BIC_VENOUS_MEAN;BILLIRUBIN_MEAN;BLAST_MEAN;CALCIUM_MEAN;CREATININ_MEAN;FFA_MEAN;GGT_MEAN;GLUCOSE_MEAN;HEMATOCRITE_MEAN;HEMOGLOBIN_MEAN;INR_MEAN;LACTATE_MEAN;LEUKOCYTES_MEAN;LINFOCITOS_MEAN;NEUTROPHILES_MEAN;P02_ARTERIAL_MEAN;P02_VENOUS_MEAN;PC02_ARTERIAL_MEAN;PC02_VENOUS_MEAN;PCR_MEAN;PH_ARTERIAL_MEAN;PH_VENOUS_MEAN;PLATELETS_MEAN;POTASSIUM_MEAN;SAT02_ARTERIAL_MEAN;SAT02_VENOUS_MEAN;SODIUM_MEAN;TGO_MEAN;TGP_MEAN;TTPA_MEAN;UREA_MEAN;DIMER_MEAN;BLOODPRESSURE_DIASTOLIC_MEAN;BLOODPRESSURE_SISTOLIC_MEAN;HEART_RATE_MEAN;RESPIRATORY_RATE_MEAN;TEMPERATURE_MEAN;OXYGEN_SATURATION_MEAN;WINDOW;ICU'\n",
    "columns = columns.split(';')\n",
    "visit_values = columns[13:-2] \n",
    "items_values = columns[1:12]\n",
    "items_labels = ['above', 'perc', 'gender', *[f'dg{i}' for i in range(1,7)], 'htn', 'immunocompromised']"
   ]
  },
  {
   "cell_type": "code",
   "execution_count": null,
   "id": "c5d02110-429b-4739-a658-c5aeab7c6203",
   "metadata": {},
   "outputs": [],
   "source": [
    "# open the dataset (it needs to be in the same directory as this python file)\n",
    "df = pd.read_excel('Kaggle_Sirio_Libanes_ICU_Prediction.xlsx')\n",
    "df = df[columns]\n",
    "df['AGE_PERCENTIL'] = df['AGE_PERCENTIL'].map(lambda ap: 'p90th' if ap == 'Above 90th' else ap)"
   ]
  },
  {
   "cell_type": "code",
   "execution_count": null,
   "id": "918926a8-6a43-4263-8f3a-3d60ab9090a6",
   "metadata": {},
   "outputs": [],
   "source": [
    "# format functions for the predicates\n",
    "container = lambda analysis_id: f'container({analysis_id}).'\n",
    "obj = lambda patient_id: f'object({patient_id}).'\n",
    "transaction = lambda visit_id, patient_id: f'transaction({visit_id}, {patient_id}).'\n",
    "item = lambda visit_id, kind_of, value: f'item({visit_id}, \"{kind_of}\", \"{value}\").'\n",
    "obj_utility = lambda patient_id, max_ICU: f'objectUtilityVector({patient_id},{max_ICU}).'\n",
    "transaction_utility = lambda visit_id, values: 'transactionUtilityVector({},{}).'.format(visit_id, ','.join(map(str,values)))\n"
   ]
  },
  {
   "cell_type": "code",
   "execution_count": null,
   "id": "d591ee82-6171-4661-92b2-f8661028775c",
   "metadata": {},
   "outputs": [],
   "source": [
    "# processing all the transactions into corresponding predicates\n",
    "n = -1\n",
    "obj_map, obj_utility_map = dict(), dict()\n",
    "transaction_map, transaction_utility_map = dict(), dict()\n",
    "items = list()\n",
    "\n",
    "for (i, (_, row)) in enumerate(df.iterrows()):\n",
    "    # max n tuple (consider all if n == -1)\n",
    "    if i == n:\n",
    "        break\n",
    "\n",
    "    patient_id = row.PATIENT_VISIT_IDENTIFIER\n",
    "    visit_id = i\n",
    "\n",
    "    if not patient_id in obj_map.keys():\n",
    "        obj_map[patient_id] = obj(patient_id)\n",
    "        obj_utility_map[patient_id] = obj_utility(patient_id, df[df.PATIENT_VISIT_IDENTIFIER == patient_id].ICU.max())\n",
    "\n",
    "    transaction_map[visit_id] = transaction(visit_id, patient_id)\n",
    "    transaction_utility_map[visit_id] = transaction_utility(visit_id, map(lambda x: f'\"{row[x]}\"', visit_values))\n",
    "\n",
    "    for (i, str_value) in zip(range(len(items_labels)), items_labels):\n",
    "        items.append(item(visit_id, str_value, row[items_values[i]]))"
   ]
  },
  {
   "cell_type": "code",
   "execution_count": null,
   "id": "e7c51863-c0c3-40e6-891c-c214ce82f294",
   "metadata": {},
   "outputs": [],
   "source": [
    "# write the output file\n",
    "with open('icu_prediction.edb', 'w') as out_file:\n",
    "    out_file.write('\\n'.join([\n",
    "        '%% object(patientId)',\n",
    "        '%% objectUtilityVector(patientId, maxICU)',\n",
    "        '%% transaction(visitId, patientId)',\n",
    "        '%% transactionUtilityVector(visitId, {})'.format(', '.join(visit_values)),\n",
    "        '%% item(visitId, value) where value is one of ageAbove, agePerc, gender\\n\\n'\n",
    "    ]))\n",
    "\n",
    "    out_file.write(' '.join(obj_map.values()) + '\\n')\n",
    "    out_file.write(' '.join(obj_utility_map.values()) + '\\n\\n')\n",
    "\n",
    "    out_file.write(' '.join(transaction_map.values()) + '\\n')\n",
    "    out_file.write(' '.join(transaction_utility_map.values()) + '\\n\\n')\n",
    "\n",
    "    out_file.write(' '.join(items) + '\\n')"
   ]
  }
 ],
 "metadata": {
  "kernelspec": {
   "display_name": "Python 3 (ipykernel)",
   "language": "python",
   "name": "python3"
  },
  "language_info": {
   "codemirror_mode": {
    "name": "ipython",
    "version": 3
   },
   "file_extension": ".py",
   "mimetype": "text/x-python",
   "name": "python",
   "nbconvert_exporter": "python",
   "pygments_lexer": "ipython3",
   "version": "3.9.15"
  }
 },
 "nbformat": 4,
 "nbformat_minor": 5
}
