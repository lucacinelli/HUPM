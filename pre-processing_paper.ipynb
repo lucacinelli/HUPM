{
 "cells": [
  {
   "cell_type": "code",
   "execution_count": 14,
   "id": "3d535a16-37b9-44c9-9d10-ebbceb3802a4",
   "metadata": {},
   "outputs": [],
   "source": [
    "from os import listdir\n",
    "from os.path import isfile, join \n",
    "\n",
    "folder_path = 'paper_review_use_case_dataset/dataset/'\n",
    "\n",
    "# get the full names of all the txt files in your folder   \n",
    "files = [join(folder_path, f) for f in listdir(folder_path) if isfile(join(folder_path, f)) and f.endswith(\".txt\")] \n",
    "\n",
    "f = open('paper_encoding_input.edb', 'a')   \n",
    "\n",
    "\n",
    "for file in files:   \n",
    "    line = open(file,\"r\").readlines() # line will be equal to the second line of the file\n",
    "    for l in line:\n",
    "        f.write(l)\n",
    "f.close()"
   ]
  }
 ],
 "metadata": {
  "kernelspec": {
   "display_name": "Python 3 (ipykernel)",
   "language": "python",
   "name": "python3"
  },
  "language_info": {
   "codemirror_mode": {
    "name": "ipython",
    "version": 3
   },
   "file_extension": ".py",
   "mimetype": "text/x-python",
   "name": "python",
   "nbconvert_exporter": "python",
   "pygments_lexer": "ipython3",
   "version": "3.9.15"
  }
 },
 "nbformat": 4,
 "nbformat_minor": 5
}
